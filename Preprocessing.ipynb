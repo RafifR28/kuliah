{
  "nbformat": 4,
  "nbformat_minor": 0,
  "metadata": {
    "colab": {
      "provenance": [],
      "include_colab_link": true
    },
    "kernelspec": {
      "name": "python3",
      "display_name": "Python 3"
    },
    "language_info": {
      "name": "python"
    }
  },
  "cells": [
    {
      "cell_type": "markdown",
      "metadata": {
        "id": "view-in-github",
        "colab_type": "text"
      },
      "source": [
        "<a href=\"https://colab.research.google.com/github/RafifR28/kuliah/blob/main/Preprocessing.ipynb\" target=\"_parent\"><img src=\"https://colab.research.google.com/assets/colab-badge.svg\" alt=\"Open In Colab\"/></a>"
      ]
    },
    {
      "cell_type": "markdown",
      "source": [
        "Latihan Preprocessing Data."
      ],
      "metadata": {
        "id": "n8En-wdD9vKQ"
      }
    },
    {
      "cell_type": "code",
      "execution_count": null,
      "metadata": {
        "id": "tKIQwlodM57p"
      },
      "outputs": [],
      "source": [
        "import numpy\n",
        "import matplotlib.pyplot as plt\n",
        "import pandas"
      ]
    },
    {
      "cell_type": "markdown",
      "source": [
        "Numpy merupakan library python yang digunakan untuk menghitung operasi matriks.\n",
        "Matplotlib merupakan library python yang digunakan untuk presentasi data berupa grafik atau plot.\n",
        "Pandas merupakan library python yang digunakan memanipulasi data dari luar."
      ],
      "metadata": {
        "id": "C22gu78d2yQE"
      }
    },
    {
      "cell_type": "code",
      "source": [
        "dataset = pandas.read_csv(\"Data2.csv\")\n",
        "x = dataset.iloc[:, :-1].values\n",
        "y = dataset.iloc[:, -1].values"
      ],
      "metadata": {
        "id": "GYgT0UFx2y5P"
      },
      "execution_count": null,
      "outputs": []
    },
    {
      "cell_type": "code",
      "source": [
        "print(x)"
      ],
      "metadata": {
        "colab": {
          "base_uri": "https://localhost:8080/"
        },
        "id": "mi13kKaD4HCb",
        "outputId": "b5332b8f-70c1-4d06-ac27-3638308d9045"
      },
      "execution_count": null,
      "outputs": [
        {
          "output_type": "stream",
          "name": "stdout",
          "text": [
            "[['Devisi HpCash' '(2766 - 4846) ganti baterai asus zenfone max pro'\n",
            "  '250000']\n",
            " ['OperasionalCash' '(2767 - ) kabel type c' '25000']\n",
            " ['Devisi HpCash' '(2768 - 4844) cleaning fan + ram asus ROG' '250000']\n",
            " ['OperasionalATM' '(2769 - ) enclosure HDD Orico' '150000']\n",
            " ['Devisi HpATM' '(4837 - 4837) LCD Infinix note 7' '217000']\n",
            " ['Devisi HpCash' '(4848 - 4848) soft xiaomi note 9 matot' '100000']\n",
            " ['KasbonCash' '(makan siang) P. Denny & Bu Inggrid' '21500']\n",
            " ['KasbonCash' '(sewa pancing) P. Denny & Bu Inggrid' '30000']\n",
            " ['Devisi HpCash' '(2762 - 4843) DP ganti LCD TS HP Huawei honor 10'\n",
            "  '300000']\n",
            " ['Devisi HpCash' '(2763 - 4841) service cas samsung A51' '150000']\n",
            " ['Devisi HpCash' '(2764 - 4842) ganti konektor cas handphone redmi 4A'\n",
            "  '100000']\n",
            " ['Devisi LaptopCash' '(2765 - 4831) cleaning dan ganti pasta PC DELL'\n",
            "  '100000']\n",
            " ['Devisi LaptopCash' '(4845 - 4845) SSD Sonix 128 GB' '225000']\n",
            " ['Devisi HpATM' '(2760 - 4838) ganti baterai hp redmi note 9 pro'\n",
            "  '300000']\n",
            " ['Devisi HpCash'\n",
            "  '(2761 - 4836) service konektor charge handphone lenovo' '100000']\n",
            " ['Devisi HpCash' '(4838 - 4838) batt ori prime 100% BN 53' '75000']\n",
            " ['Devisi LaptopCash'\n",
            "  '(2756 - 4824) install ulang laptop dell inspiron 14 5000' '100000']\n",
            " ['Devisi LaptopCash' '(2757 - 4835) reset printer epson L220' '75000']\n",
            " ['Devisi LaptopCash' '(2758 - 4825) service kamera IP S340' '100000']\n",
            " ['Devisi LaptopCash' '(2759 - 4763) service fleksibel on/off acer'\n",
            "  '100000']\n",
            " ['Devisi HpCash' '(2753 - 4823) service tombol power handphone' '50000']\n",
            " ['Devisi HpCash' '(2754 - 4822) software hp samsung a20s' '150000']\n",
            " ['Devisi LaptopCash' '(2755 - 4821) install ulang asus a442u' '100000']\n",
            " ['OperasionalCash' 'toner for CB435/43B' '150000']\n",
            " ['KasbonCash' '(kotak tisu dan mainan tikus) P. Denny & Bu Inggrid'\n",
            "  '46500']\n",
            " ['PengadaanCash' '(Kemenkumham) PMC toner catridge' '95000']\n",
            " ['Devisi HpCash' '(4802 - 4802) cancel asus ROG' '55000']\n",
            " ['OperasionalCash' 'alat service' '38600']\n",
            " ['Devisi LaptopCash' '(2752 - 4820) SSD 256 GB' '750000']\n",
            " ['Devisi LaptopCash' '(2752 - 4820) caddy HDD' '100000']\n",
            " ['Devisi HpCash' '(4802 - 4802) DP Asus ROG' '100000']\n",
            " ['OperasionalATM' '(stok - ) mouse optik usb 10 pcs' '105000']\n",
            " ['OperasionalATM' '(stok - ) kabel hdmi 5 pcs' '70000']\n",
            " ['Devisi HpCash' '(2747 - 2747) ganti baterai handphone poco X3'\n",
            "  '300000']\n",
            " ['Devisi HpATM' '(2748 - 4619) service tombol power + software huawei'\n",
            "  '250000']\n",
            " ['Devisi HpATM' '(2749 - 4819) ganti lcd handphone vivo V9' '400000']\n",
            " ['Devisi LaptopCash' '(2750 - 2750) install aplikasi photoshop' '50000']\n",
            " ['Devisi LaptopCash' '(2751 - 4815) service engsel laptop dell 15 3511'\n",
            "  '150000']\n",
            " ['OperasionalCash' 'second hdd notebook' '78000k']\n",
            " ['OperasionalCash' 'kabel power notebook' '215000']\n",
            " ['Devisi LaptopCash' '(4820 - 4820) SSD Sonix 256GB' '315000']\n",
            " ['Devisi HpATM' '(2743 - 4812) ganti baterai hp huawei 3i' '250000']\n",
            " ['Devisi HpATM' '(2743 - 4812) ganti konektor charger huawei' '150000']\n",
            " ['Devisi HpCash' '(2744 - 4758) ganti lcd dan konektor cas xiaomi'\n",
            "  '550000']\n",
            " ['Devisi HpCash' '(2745 - 2745) ganti baterai ip 6G' '200000']\n",
            " ['Devisi HpCash' '(2746 - 4557) ganti mesin xiaomi redmi 5A' '125000']\n",
            " ['Devisi HpCash' '(2737 - 4809) software ulang hp vivo 1907' '100000']\n",
            " ['Devisi HpCash' '(2737 - 4809) baterai vivo 1907' '200000']\n",
            " ['Devisi HpCash' '(4817 - 4817) garansi' 'Free']\n",
            " ['Devisi HpCash' '(4819 - 4819) LCD Vivo V9/Y85' '195000']\n",
            " ['Devisi HpCash' '(5274) LCD Xiaomi Redmi Note 8' '157000']\n",
            " ['Devisi HpCash' '(3194 - 5247) DP Ganti LCD Samsung s20 Ultra'\n",
            "  '2000000']\n",
            " ['Devisi HpCash' '(3190) Ganti LCD TS HP redmi note 8' '400000']\n",
            " ['Devisi HPCash' '(3196) ganti socket redmi note 9 pro' '350000']\n",
            " ['Devisi HpATM' '(3197) ganti  lcd ts handphone oppo A31' '350000']\n",
            " ['Devisi HpATM' '(3199) ganti baterai handphone redmi 4x' '200000']\n",
            " ['Devisi HpCash' '(5247) DP LCD Samsung' '50000']\n",
            " ['Devisi HpATM' '(5279) batt xiaomi ORI BN-44 redmi 5' '65000']\n",
            " ['Devisi HpCash' '(5282) lcd oppo A31 2020' '124000']\n",
            " ['Devisi HpCash' 'Tempered Glass Titan' '8000']\n",
            " ['Devisi HpCash' 'o/f reno 5' '10000']\n",
            " ['Devisi HpATM' 'lcs sam A750 black' '180000']\n",
            " ['Devisi HpCash' '(3199) batt xiaomi ORI BM-47/4X' '50000']\n",
            " ['Devisi HpCash' '(3200) ganti baterai redmi 5 plus' '200000']\n",
            " ['Devisi LaptopATM' '(3201) service mainboard A10 dell' '500000']\n",
            " ['Devisi HpATM' '(3202) ganti baterai xiaomi redmi note 4X' '200000']\n",
            " ['Devisi HpCash' '(3204) ganti lcd samsung galaxy A7' '350000']\n",
            " ['Devisi HpCash' '(3206) ganti baterai redmi note 7' '250000']\n",
            " ['Devisi HpATM' '(3206) baterai xiaomi redmi note 7' '250000']\n",
            " ['Devisi HpCash' '(3209) service tombol o/f dan power' '100000']\n",
            " ['Devisi HpCash' '(3211) install ulang dan service speaker Hp' '200000']\n",
            " ['Devisi HpATM' '(3162) batt huawei P9' '60000']\n",
            " ['Devisi HpCash' '(3213) ganti baterai dan fleksibel hp honor' '350000']\n",
            " ['Devisi HpATM' '(3222) ganti baterai hp samsung galaxy J7 Prime'\n",
            "  '250000']\n",
            " [';;' nan nan]\n",
            " [';;' nan nan]]\n"
          ]
        }
      ]
    },
    {
      "cell_type": "code",
      "source": [
        "print(x)\n",
        "print(y)"
      ],
      "metadata": {
        "colab": {
          "base_uri": "https://localhost:8080/"
        },
        "id": "mGirQP_K4bQU",
        "outputId": "7a4618ca-f6c6-4362-b607-38b2e1f323fe"
      },
      "execution_count": null,
      "outputs": [
        {
          "output_type": "stream",
          "name": "stdout",
          "text": [
            "[['Devisi HpCash' '(2766 - 4846) ganti baterai asus zenfone max pro'\n",
            "  '250000']\n",
            " ['OperasionalCash' '(2767 - ) kabel type c' '25000']\n",
            " ['Devisi HpCash' '(2768 - 4844) cleaning fan + ram asus ROG' '250000']\n",
            " ['OperasionalATM' '(2769 - ) enclosure HDD Orico' '150000']\n",
            " ['Devisi HpATM' '(4837 - 4837) LCD Infinix note 7' '217000']\n",
            " ['Devisi HpCash' '(4848 - 4848) soft xiaomi note 9 matot' '100000']\n",
            " ['KasbonCash' '(makan siang) P. Denny & Bu Inggrid' '21500']\n",
            " ['KasbonCash' '(sewa pancing) P. Denny & Bu Inggrid' '30000']\n",
            " ['Devisi HpCash' '(2762 - 4843) DP ganti LCD TS HP Huawei honor 10'\n",
            "  '300000']\n",
            " ['Devisi HpCash' '(2763 - 4841) service cas samsung A51' '150000']\n",
            " ['Devisi HpCash' '(2764 - 4842) ganti konektor cas handphone redmi 4A'\n",
            "  '100000']\n",
            " ['Devisi LaptopCash' '(2765 - 4831) cleaning dan ganti pasta PC DELL'\n",
            "  '100000']\n",
            " ['Devisi LaptopCash' '(4845 - 4845) SSD Sonix 128 GB' '225000']\n",
            " ['Devisi HpATM' '(2760 - 4838) ganti baterai hp redmi note 9 pro'\n",
            "  '300000']\n",
            " ['Devisi HpCash'\n",
            "  '(2761 - 4836) service konektor charge handphone lenovo' '100000']\n",
            " ['Devisi HpCash' '(4838 - 4838) batt ori prime 100% BN 53' '75000']\n",
            " ['Devisi LaptopCash'\n",
            "  '(2756 - 4824) install ulang laptop dell inspiron 14 5000' '100000']\n",
            " ['Devisi LaptopCash' '(2757 - 4835) reset printer epson L220' '75000']\n",
            " ['Devisi LaptopCash' '(2758 - 4825) service kamera IP S340' '100000']\n",
            " ['Devisi LaptopCash' '(2759 - 4763) service fleksibel on/off acer'\n",
            "  '100000']\n",
            " ['Devisi HpCash' '(2753 - 4823) service tombol power handphone' '50000']\n",
            " ['Devisi HpCash' '(2754 - 4822) software hp samsung a20s' '150000']\n",
            " ['Devisi LaptopCash' '(2755 - 4821) install ulang asus a442u' '100000']\n",
            " ['OperasionalCash' 'toner for CB435/43B' '150000']\n",
            " ['KasbonCash' '(kotak tisu dan mainan tikus) P. Denny & Bu Inggrid'\n",
            "  '46500']\n",
            " ['PengadaanCash' '(Kemenkumham) PMC toner catridge' '95000']\n",
            " ['Devisi HpCash' '(4802 - 4802) cancel asus ROG' '55000']\n",
            " ['OperasionalCash' 'alat service' '38600']\n",
            " ['Devisi LaptopCash' '(2752 - 4820) SSD 256 GB' '750000']\n",
            " ['Devisi LaptopCash' '(2752 - 4820) caddy HDD' '100000']\n",
            " ['Devisi HpCash' '(4802 - 4802) DP Asus ROG' '100000']\n",
            " ['OperasionalATM' '(stok - ) mouse optik usb 10 pcs' '105000']\n",
            " ['OperasionalATM' '(stok - ) kabel hdmi 5 pcs' '70000']\n",
            " ['Devisi HpCash' '(2747 - 2747) ganti baterai handphone poco X3'\n",
            "  '300000']\n",
            " ['Devisi HpATM' '(2748 - 4619) service tombol power + software huawei'\n",
            "  '250000']\n",
            " ['Devisi HpATM' '(2749 - 4819) ganti lcd handphone vivo V9' '400000']\n",
            " ['Devisi LaptopCash' '(2750 - 2750) install aplikasi photoshop' '50000']\n",
            " ['Devisi LaptopCash' '(2751 - 4815) service engsel laptop dell 15 3511'\n",
            "  '150000']\n",
            " ['OperasionalCash' 'second hdd notebook' '78000k']\n",
            " ['OperasionalCash' 'kabel power notebook' '215000']\n",
            " ['Devisi LaptopCash' '(4820 - 4820) SSD Sonix 256GB' '315000']\n",
            " ['Devisi HpATM' '(2743 - 4812) ganti baterai hp huawei 3i' '250000']\n",
            " ['Devisi HpATM' '(2743 - 4812) ganti konektor charger huawei' '150000']\n",
            " ['Devisi HpCash' '(2744 - 4758) ganti lcd dan konektor cas xiaomi'\n",
            "  '550000']\n",
            " ['Devisi HpCash' '(2745 - 2745) ganti baterai ip 6G' '200000']\n",
            " ['Devisi HpCash' '(2746 - 4557) ganti mesin xiaomi redmi 5A' '125000']\n",
            " ['Devisi HpCash' '(2737 - 4809) software ulang hp vivo 1907' '100000']\n",
            " ['Devisi HpCash' '(2737 - 4809) baterai vivo 1907' '200000']\n",
            " ['Devisi HpCash' '(4817 - 4817) garansi' 'Free']\n",
            " ['Devisi HpCash' '(4819 - 4819) LCD Vivo V9/Y85' '195000']\n",
            " ['Devisi HpCash' '(5274) LCD Xiaomi Redmi Note 8' '157000']\n",
            " ['Devisi HpCash' '(3194 - 5247) DP Ganti LCD Samsung s20 Ultra'\n",
            "  '2000000']\n",
            " ['Devisi HpCash' '(3190) Ganti LCD TS HP redmi note 8' '400000']\n",
            " ['Devisi HPCash' '(3196) ganti socket redmi note 9 pro' '350000']\n",
            " ['Devisi HpATM' '(3197) ganti  lcd ts handphone oppo A31' '350000']\n",
            " ['Devisi HpATM' '(3199) ganti baterai handphone redmi 4x' '200000']\n",
            " ['Devisi HpCash' '(5247) DP LCD Samsung' '50000']\n",
            " ['Devisi HpATM' '(5279) batt xiaomi ORI BN-44 redmi 5' '65000']\n",
            " ['Devisi HpCash' '(5282) lcd oppo A31 2020' '124000']\n",
            " ['Devisi HpCash' 'Tempered Glass Titan' '8000']\n",
            " ['Devisi HpCash' 'o/f reno 5' '10000']\n",
            " ['Devisi HpATM' 'lcs sam A750 black' '180000']\n",
            " ['Devisi HpCash' '(3199) batt xiaomi ORI BM-47/4X' '50000']\n",
            " ['Devisi HpCash' '(3200) ganti baterai redmi 5 plus' '200000']\n",
            " ['Devisi LaptopATM' '(3201) service mainboard A10 dell' '500000']\n",
            " ['Devisi HpATM' '(3202) ganti baterai xiaomi redmi note 4X' '200000']\n",
            " ['Devisi HpCash' '(3204) ganti lcd samsung galaxy A7' '350000']\n",
            " ['Devisi HpCash' '(3206) ganti baterai redmi note 7' '250000']\n",
            " ['Devisi HpATM' '(3206) baterai xiaomi redmi note 7' '250000']\n",
            " ['Devisi HpCash' '(3209) service tombol o/f dan power' '100000']\n",
            " ['Devisi HpCash' '(3211) install ulang dan service speaker Hp' '200000']\n",
            " ['Devisi HpATM' '(3162) batt huawei P9' '60000']\n",
            " ['Devisi HpCash' '(3213) ganti baterai dan fleksibel hp honor' '350000']\n",
            " ['Devisi HpATM' '(3222) ganti baterai hp samsung galaxy J7 Prime'\n",
            "  '250000']\n",
            " [';;' nan nan]\n",
            " [';;' nan nan]]\n",
            "['Pemasukan;;' 'Pengeluaran;;' 'Pemasukan;;' 'Pemasukan;;' 'Pemasukan;;'\n",
            " 'Pemasukan;;' 'Pengeluaran;;' 'Pengeluaran;;' 'Pemasukan;;' 'Pemasukan;;'\n",
            " 'Pemasukan;;' 'Pemasukan;;' 'Pemasukan;;' 'Pemasukan;;' 'Pemasukan;;'\n",
            " 'Pemasukan;;' 'Pemasukan;;' 'Pemasukan;;' 'Pemasukan;;' 'Pemasukan;;'\n",
            " 'Pemasukan;;' 'Pemasukan;;' 'Pemasukan;;' 'Pengeluaran;;' 'Pengeluaran;;'\n",
            " 'Pengeluaran;;' 'Pengeluaran;;' 'Pengeluaran;;' 'Pengeluaran;;'\n",
            " 'Pemasukan;;' 'Pemasukan;;' 'Pengeluaran;;' 'Pengeluaran;;' 'Pemasukan;;'\n",
            " 'Pemasukan;;' 'Pemasukan;;' 'Pemasukan;;' 'Pemasukan;;' 'Pengeluaran;;'\n",
            " 'Pengeluaran;;' 'Pemasukan;;' 'Pemasukan;;' 'Pemasukan;;' 'Pemasukan;;'\n",
            " 'Pemasukan;;' 'Pemasukan;;' 'Pemasukan;;' 'Pemasukan;;' '0;;'\n",
            " 'Pemasukan;;' 'Pemasukan;;' 'Pemasukan;;' 'Pemasukan;;' 'Pemasukan;;'\n",
            " 'Pemasukan;;' 'Pemasukan;;' 'Pemasukan;;' 'Pemasukan;;' 'Pemasukan;;'\n",
            " 'Pemasukan;;' 'Pemasukan;;' 'Pemasukan;;' 'Pemasukan;;' 'Pemasukan;;'\n",
            " 'Pemasukan;;' 'Pemasukan;;' 'Pemasukan;;' 'Pemasukan;;' 'Pemasukan;;'\n",
            " 'Pemasukan;;' 'Pemasukan;;' 'Pemasukan;;' 'Pemasukan;;' 'Pemasukan;;' nan\n",
            " nan]\n"
          ]
        }
      ]
    },
    {
      "cell_type": "code",
      "source": [
        "from sklearn.impute import SimpleImputer\n",
        "imputer = SimpleImputer(missing_values=numpy.nan, strategy='mean')\n",
        "imputer.fit(x[:, 1:3])\n",
        "x[:, 1:3] = imputer.transform(x[:, 1:3])"
      ],
      "metadata": {
        "id": "sn_K2Qgc4p0T",
        "colab": {
          "base_uri": "https://localhost:8080/",
          "height": 398
        },
        "outputId": "9b0cb018-00b7-46c9-f98d-a2e79924cef6"
      },
      "execution_count": null,
      "outputs": [
        {
          "output_type": "error",
          "ename": "ValueError",
          "evalue": "ignored",
          "traceback": [
            "\u001b[0;31m---------------------------------------------------------------------------\u001b[0m",
            "\u001b[0;31mValueError\u001b[0m                                Traceback (most recent call last)",
            "\u001b[0;32m<ipython-input-36-37bf74622b87>\u001b[0m in \u001b[0;36m<cell line: 3>\u001b[0;34m()\u001b[0m\n\u001b[1;32m      1\u001b[0m \u001b[0;32mfrom\u001b[0m \u001b[0msklearn\u001b[0m\u001b[0;34m.\u001b[0m\u001b[0mimpute\u001b[0m \u001b[0;32mimport\u001b[0m \u001b[0mSimpleImputer\u001b[0m\u001b[0;34m\u001b[0m\u001b[0;34m\u001b[0m\u001b[0m\n\u001b[1;32m      2\u001b[0m \u001b[0mimputer\u001b[0m \u001b[0;34m=\u001b[0m \u001b[0mSimpleImputer\u001b[0m\u001b[0;34m(\u001b[0m\u001b[0mmissing_values\u001b[0m\u001b[0;34m=\u001b[0m\u001b[0mnumpy\u001b[0m\u001b[0;34m.\u001b[0m\u001b[0mnan\u001b[0m\u001b[0;34m,\u001b[0m \u001b[0mstrategy\u001b[0m\u001b[0;34m=\u001b[0m\u001b[0;34m'mean'\u001b[0m\u001b[0;34m)\u001b[0m\u001b[0;34m\u001b[0m\u001b[0;34m\u001b[0m\u001b[0m\n\u001b[0;32m----> 3\u001b[0;31m \u001b[0mimputer\u001b[0m\u001b[0;34m.\u001b[0m\u001b[0mfit\u001b[0m\u001b[0;34m(\u001b[0m\u001b[0mx\u001b[0m\u001b[0;34m[\u001b[0m\u001b[0;34m:\u001b[0m\u001b[0;34m,\u001b[0m \u001b[0;36m1\u001b[0m\u001b[0;34m:\u001b[0m\u001b[0;36m3\u001b[0m\u001b[0;34m]\u001b[0m\u001b[0;34m)\u001b[0m\u001b[0;34m\u001b[0m\u001b[0;34m\u001b[0m\u001b[0m\n\u001b[0m\u001b[1;32m      4\u001b[0m \u001b[0mx\u001b[0m\u001b[0;34m[\u001b[0m\u001b[0;34m:\u001b[0m\u001b[0;34m,\u001b[0m \u001b[0;36m1\u001b[0m\u001b[0;34m:\u001b[0m\u001b[0;36m3\u001b[0m\u001b[0;34m]\u001b[0m \u001b[0;34m=\u001b[0m \u001b[0mimputer\u001b[0m\u001b[0;34m.\u001b[0m\u001b[0mtransform\u001b[0m\u001b[0;34m(\u001b[0m\u001b[0mx\u001b[0m\u001b[0;34m[\u001b[0m\u001b[0;34m:\u001b[0m\u001b[0;34m,\u001b[0m \u001b[0;36m1\u001b[0m\u001b[0;34m:\u001b[0m\u001b[0;36m3\u001b[0m\u001b[0;34m]\u001b[0m\u001b[0;34m)\u001b[0m\u001b[0;34m\u001b[0m\u001b[0;34m\u001b[0m\u001b[0m\n",
            "\u001b[0;32m/usr/local/lib/python3.10/dist-packages/sklearn/impute/_base.py\u001b[0m in \u001b[0;36mfit\u001b[0;34m(self, X, y)\u001b[0m\n\u001b[1;32m    388\u001b[0m             )\n\u001b[1;32m    389\u001b[0m \u001b[0;34m\u001b[0m\u001b[0m\n\u001b[0;32m--> 390\u001b[0;31m         \u001b[0mX\u001b[0m \u001b[0;34m=\u001b[0m \u001b[0mself\u001b[0m\u001b[0;34m.\u001b[0m\u001b[0m_validate_input\u001b[0m\u001b[0;34m(\u001b[0m\u001b[0mX\u001b[0m\u001b[0;34m,\u001b[0m \u001b[0min_fit\u001b[0m\u001b[0;34m=\u001b[0m\u001b[0;32mTrue\u001b[0m\u001b[0;34m)\u001b[0m\u001b[0;34m\u001b[0m\u001b[0;34m\u001b[0m\u001b[0m\n\u001b[0m\u001b[1;32m    391\u001b[0m \u001b[0;34m\u001b[0m\u001b[0m\n\u001b[1;32m    392\u001b[0m         \u001b[0;31m# default fill_value is 0 for numerical input and \"missing_value\"\u001b[0m\u001b[0;34m\u001b[0m\u001b[0;34m\u001b[0m\u001b[0m\n",
            "\u001b[0;32m/usr/local/lib/python3.10/dist-packages/sklearn/impute/_base.py\u001b[0m in \u001b[0;36m_validate_input\u001b[0;34m(self, X, in_fit)\u001b[0m\n\u001b[1;32m    340\u001b[0m                     )\n\u001b[1;32m    341\u001b[0m                 )\n\u001b[0;32m--> 342\u001b[0;31m                 \u001b[0;32mraise\u001b[0m \u001b[0mnew_ve\u001b[0m \u001b[0;32mfrom\u001b[0m \u001b[0;32mNone\u001b[0m\u001b[0;34m\u001b[0m\u001b[0;34m\u001b[0m\u001b[0m\n\u001b[0m\u001b[1;32m    343\u001b[0m             \u001b[0;32melse\u001b[0m\u001b[0;34m:\u001b[0m\u001b[0;34m\u001b[0m\u001b[0;34m\u001b[0m\u001b[0m\n\u001b[1;32m    344\u001b[0m                 \u001b[0;32mraise\u001b[0m \u001b[0mve\u001b[0m\u001b[0;34m\u001b[0m\u001b[0;34m\u001b[0m\u001b[0m\n",
            "\u001b[0;31mValueError\u001b[0m: Cannot use mean strategy with non-numeric data:\ncould not convert string to float: '(2766 - 4846) ganti baterai asus zenfone max pro'"
          ]
        }
      ]
    },
    {
      "cell_type": "code",
      "source": [
        "print(x)"
      ],
      "metadata": {
        "colab": {
          "base_uri": "https://localhost:8080/"
        },
        "id": "8v5IM6B05hoT",
        "outputId": "d5d0d6f0-14b1-45fa-e1c7-e90eb9019a16"
      },
      "execution_count": null,
      "outputs": [
        {
          "output_type": "stream",
          "name": "stdout",
          "text": [
            "[['Devisi HpCash' '(2766 - 4846) ganti baterai asus zenfone max pro'\n",
            "  '250000']\n",
            " ['OperasionalCash' '(2767 - ) kabel type c' '25000']\n",
            " ['Devisi HpCash' '(2768 - 4844) cleaning fan + ram asus ROG' '250000']\n",
            " ['OperasionalATM' '(2769 - ) enclosure HDD Orico' '150000']\n",
            " ['Devisi HpATM' '(4837 - 4837) LCD Infinix note 7' '217000']\n",
            " ['Devisi HpCash' '(4848 - 4848) soft xiaomi note 9 matot' '100000']\n",
            " ['KasbonCash' '(makan siang) P. Denny & Bu Inggrid' '21500']\n",
            " ['KasbonCash' '(sewa pancing) P. Denny & Bu Inggrid' '30000']\n",
            " ['Devisi HpCash' '(2762 - 4843) DP ganti LCD TS HP Huawei honor 10'\n",
            "  '300000']\n",
            " ['Devisi HpCash' '(2763 - 4841) service cas samsung A51' '150000']\n",
            " ['Devisi HpCash' '(2764 - 4842) ganti konektor cas handphone redmi 4A'\n",
            "  '100000']\n",
            " ['Devisi LaptopCash' '(2765 - 4831) cleaning dan ganti pasta PC DELL'\n",
            "  '100000']\n",
            " ['Devisi LaptopCash' '(4845 - 4845) SSD Sonix 128 GB' '225000']\n",
            " ['Devisi HpATM' '(2760 - 4838) ganti baterai hp redmi note 9 pro'\n",
            "  '300000']\n",
            " ['Devisi HpCash'\n",
            "  '(2761 - 4836) service konektor charge handphone lenovo' '100000']\n",
            " ['Devisi HpCash' '(4838 - 4838) batt ori prime 100% BN 53' '75000']\n",
            " ['Devisi LaptopCash'\n",
            "  '(2756 - 4824) install ulang laptop dell inspiron 14 5000' '100000']\n",
            " ['Devisi LaptopCash' '(2757 - 4835) reset printer epson L220' '75000']\n",
            " ['Devisi LaptopCash' '(2758 - 4825) service kamera IP S340' '100000']\n",
            " ['Devisi LaptopCash' '(2759 - 4763) service fleksibel on/off acer'\n",
            "  '100000']\n",
            " ['Devisi HpCash' '(2753 - 4823) service tombol power handphone' '50000']\n",
            " ['Devisi HpCash' '(2754 - 4822) software hp samsung a20s' '150000']\n",
            " ['Devisi LaptopCash' '(2755 - 4821) install ulang asus a442u' '100000']\n",
            " ['OperasionalCash' 'toner for CB435/43B' '150000']\n",
            " ['KasbonCash' '(kotak tisu dan mainan tikus) P. Denny & Bu Inggrid'\n",
            "  '46500']\n",
            " ['PengadaanCash' '(Kemenkumham) PMC toner catridge' '95000']\n",
            " ['Devisi HpCash' '(4802 - 4802) cancel asus ROG' '55000']\n",
            " ['OperasionalCash' 'alat service' '38600']\n",
            " ['Devisi LaptopCash' '(2752 - 4820) SSD 256 GB' '750000']\n",
            " ['Devisi LaptopCash' '(2752 - 4820) caddy HDD' '100000']\n",
            " ['Devisi HpCash' '(4802 - 4802) DP Asus ROG' '100000']\n",
            " ['OperasionalATM' '(stok - ) mouse optik usb 10 pcs' '105000']\n",
            " ['OperasionalATM' '(stok - ) kabel hdmi 5 pcs' '70000']\n",
            " ['Devisi HpCash' '(2747 - 2747) ganti baterai handphone poco X3'\n",
            "  '300000']\n",
            " ['Devisi HpATM' '(2748 - 4619) service tombol power + software huawei'\n",
            "  '250000']\n",
            " ['Devisi HpATM' '(2749 - 4819) ganti lcd handphone vivo V9' '400000']\n",
            " ['Devisi LaptopCash' '(2750 - 2750) install aplikasi photoshop' '50000']\n",
            " ['Devisi LaptopCash' '(2751 - 4815) service engsel laptop dell 15 3511'\n",
            "  '150000']\n",
            " ['OperasionalCash' 'second hdd notebook' '78000k']\n",
            " ['OperasionalCash' 'kabel power notebook' '215000']\n",
            " ['Devisi LaptopCash' '(4820 - 4820) SSD Sonix 256GB' '315000']\n",
            " ['Devisi HpATM' '(2743 - 4812) ganti baterai hp huawei 3i' '250000']\n",
            " ['Devisi HpATM' '(2743 - 4812) ganti konektor charger huawei' '150000']\n",
            " ['Devisi HpCash' '(2744 - 4758) ganti lcd dan konektor cas xiaomi'\n",
            "  '550000']\n",
            " ['Devisi HpCash' '(2745 - 2745) ganti baterai ip 6G' '200000']\n",
            " ['Devisi HpCash' '(2746 - 4557) ganti mesin xiaomi redmi 5A' '125000']\n",
            " ['Devisi HpCash' '(2737 - 4809) software ulang hp vivo 1907' '100000']\n",
            " ['Devisi HpCash' '(2737 - 4809) baterai vivo 1907' '200000']\n",
            " ['Devisi HpCash' '(4817 - 4817) garansi' 'Free']\n",
            " ['Devisi HpCash' '(4819 - 4819) LCD Vivo V9/Y85' '195000']\n",
            " ['Devisi HpCash' '(5274) LCD Xiaomi Redmi Note 8' '157000']\n",
            " ['Devisi HpCash' '(3194 - 5247) DP Ganti LCD Samsung s20 Ultra'\n",
            "  '2000000']\n",
            " ['Devisi HpCash' '(3190) Ganti LCD TS HP redmi note 8' '400000']\n",
            " ['Devisi HPCash' '(3196) ganti socket redmi note 9 pro' '350000']\n",
            " ['Devisi HpATM' '(3197) ganti  lcd ts handphone oppo A31' '350000']\n",
            " ['Devisi HpATM' '(3199) ganti baterai handphone redmi 4x' '200000']\n",
            " ['Devisi HpCash' '(5247) DP LCD Samsung' '50000']\n",
            " ['Devisi HpATM' '(5279) batt xiaomi ORI BN-44 redmi 5' '65000']\n",
            " ['Devisi HpCash' '(5282) lcd oppo A31 2020' '124000']\n",
            " ['Devisi HpCash' 'Tempered Glass Titan' '8000']\n",
            " ['Devisi HpCash' 'o/f reno 5' '10000']\n",
            " ['Devisi HpATM' 'lcs sam A750 black' '180000']\n",
            " ['Devisi HpCash' '(3199) batt xiaomi ORI BM-47/4X' '50000']\n",
            " ['Devisi HpCash' '(3200) ganti baterai redmi 5 plus' '200000']\n",
            " ['Devisi LaptopATM' '(3201) service mainboard A10 dell' '500000']\n",
            " ['Devisi HpATM' '(3202) ganti baterai xiaomi redmi note 4X' '200000']\n",
            " ['Devisi HpCash' '(3204) ganti lcd samsung galaxy A7' '350000']\n",
            " ['Devisi HpCash' '(3206) ganti baterai redmi note 7' '250000']\n",
            " ['Devisi HpATM' '(3206) baterai xiaomi redmi note 7' '250000']\n",
            " ['Devisi HpCash' '(3209) service tombol o/f dan power' '100000']\n",
            " ['Devisi HpCash' '(3211) install ulang dan service speaker Hp' '200000']\n",
            " ['Devisi HpATM' '(3162) batt huawei P9' '60000']\n",
            " ['Devisi HpCash' '(3213) ganti baterai dan fleksibel hp honor' '350000']\n",
            " ['Devisi HpATM' '(3222) ganti baterai hp samsung galaxy J7 Prime'\n",
            "  '250000']\n",
            " [';;' nan nan]\n",
            " [';;' nan nan]]\n"
          ]
        }
      ]
    },
    {
      "cell_type": "code",
      "source": [
        "from sklearn.compose import ColumnTransformer\n",
        "from sklearn.preprocessing import OneHotEncoder\n",
        "ct = ColumnTransformer(transformers=[('encoder', OneHotEncoder(), [0])], remainder='passthrough')\n",
        "x = numpy.array(ct.fit_transform(x))"
      ],
      "metadata": {
        "id": "h-_am_QK5300",
        "colab": {
          "base_uri": "https://localhost:8080/",
          "height": 467
        },
        "outputId": "560009b3-857d-4624-effe-29f448dbd764"
      },
      "execution_count": null,
      "outputs": [
        {
          "output_type": "error",
          "ename": "ValueError",
          "evalue": "ignored",
          "traceback": [
            "\u001b[0;31m---------------------------------------------------------------------------\u001b[0m",
            "\u001b[0;31mValueError\u001b[0m                                Traceback (most recent call last)",
            "\u001b[0;32m/usr/local/lib/python3.10/dist-packages/sklearn/compose/_column_transformer.py\u001b[0m in \u001b[0;36m_hstack\u001b[0;34m(self, Xs)\u001b[0m\n\u001b[1;32m    829\u001b[0m                 \u001b[0;31m# dtype conversion if necessary.\u001b[0m\u001b[0;34m\u001b[0m\u001b[0;34m\u001b[0m\u001b[0m\n\u001b[0;32m--> 830\u001b[0;31m                 converted_Xs = [\n\u001b[0m\u001b[1;32m    831\u001b[0m                     \u001b[0mcheck_array\u001b[0m\u001b[0;34m(\u001b[0m\u001b[0mX\u001b[0m\u001b[0;34m,\u001b[0m \u001b[0maccept_sparse\u001b[0m\u001b[0;34m=\u001b[0m\u001b[0;32mTrue\u001b[0m\u001b[0;34m,\u001b[0m \u001b[0mforce_all_finite\u001b[0m\u001b[0;34m=\u001b[0m\u001b[0;32mFalse\u001b[0m\u001b[0;34m)\u001b[0m\u001b[0;34m\u001b[0m\u001b[0;34m\u001b[0m\u001b[0m\n",
            "\u001b[0;32m/usr/local/lib/python3.10/dist-packages/sklearn/compose/_column_transformer.py\u001b[0m in \u001b[0;36m<listcomp>\u001b[0;34m(.0)\u001b[0m\n\u001b[1;32m    830\u001b[0m                 converted_Xs = [\n\u001b[0;32m--> 831\u001b[0;31m                     \u001b[0mcheck_array\u001b[0m\u001b[0;34m(\u001b[0m\u001b[0mX\u001b[0m\u001b[0;34m,\u001b[0m \u001b[0maccept_sparse\u001b[0m\u001b[0;34m=\u001b[0m\u001b[0;32mTrue\u001b[0m\u001b[0;34m,\u001b[0m \u001b[0mforce_all_finite\u001b[0m\u001b[0;34m=\u001b[0m\u001b[0;32mFalse\u001b[0m\u001b[0;34m)\u001b[0m\u001b[0;34m\u001b[0m\u001b[0;34m\u001b[0m\u001b[0m\n\u001b[0m\u001b[1;32m    832\u001b[0m                     \u001b[0;32mfor\u001b[0m \u001b[0mX\u001b[0m \u001b[0;32min\u001b[0m \u001b[0mXs\u001b[0m\u001b[0;34m\u001b[0m\u001b[0;34m\u001b[0m\u001b[0m\n",
            "\u001b[0;32m/usr/local/lib/python3.10/dist-packages/sklearn/utils/validation.py\u001b[0m in \u001b[0;36mcheck_array\u001b[0;34m(array, accept_sparse, accept_large_sparse, dtype, order, copy, force_all_finite, ensure_2d, allow_nd, ensure_min_samples, ensure_min_features, estimator, input_name)\u001b[0m\n\u001b[1;32m    878\u001b[0m                 \u001b[0;32melse\u001b[0m\u001b[0;34m:\u001b[0m\u001b[0;34m\u001b[0m\u001b[0;34m\u001b[0m\u001b[0m\n\u001b[0;32m--> 879\u001b[0;31m                     \u001b[0marray\u001b[0m \u001b[0;34m=\u001b[0m \u001b[0m_asarray_with_order\u001b[0m\u001b[0;34m(\u001b[0m\u001b[0marray\u001b[0m\u001b[0;34m,\u001b[0m \u001b[0morder\u001b[0m\u001b[0;34m=\u001b[0m\u001b[0morder\u001b[0m\u001b[0;34m,\u001b[0m \u001b[0mdtype\u001b[0m\u001b[0;34m=\u001b[0m\u001b[0mdtype\u001b[0m\u001b[0;34m,\u001b[0m \u001b[0mxp\u001b[0m\u001b[0;34m=\u001b[0m\u001b[0mxp\u001b[0m\u001b[0;34m)\u001b[0m\u001b[0;34m\u001b[0m\u001b[0;34m\u001b[0m\u001b[0m\n\u001b[0m\u001b[1;32m    880\u001b[0m             \u001b[0;32mexcept\u001b[0m \u001b[0mComplexWarning\u001b[0m \u001b[0;32mas\u001b[0m \u001b[0mcomplex_warning\u001b[0m\u001b[0;34m:\u001b[0m\u001b[0;34m\u001b[0m\u001b[0;34m\u001b[0m\u001b[0m\n",
            "\u001b[0;32m/usr/local/lib/python3.10/dist-packages/sklearn/utils/_array_api.py\u001b[0m in \u001b[0;36m_asarray_with_order\u001b[0;34m(array, dtype, order, copy, xp)\u001b[0m\n\u001b[1;32m    184\u001b[0m         \u001b[0;31m# Use NumPy API to support order\u001b[0m\u001b[0;34m\u001b[0m\u001b[0;34m\u001b[0m\u001b[0m\n\u001b[0;32m--> 185\u001b[0;31m         \u001b[0marray\u001b[0m \u001b[0;34m=\u001b[0m \u001b[0mnumpy\u001b[0m\u001b[0;34m.\u001b[0m\u001b[0masarray\u001b[0m\u001b[0;34m(\u001b[0m\u001b[0marray\u001b[0m\u001b[0;34m,\u001b[0m \u001b[0morder\u001b[0m\u001b[0;34m=\u001b[0m\u001b[0morder\u001b[0m\u001b[0;34m,\u001b[0m \u001b[0mdtype\u001b[0m\u001b[0;34m=\u001b[0m\u001b[0mdtype\u001b[0m\u001b[0;34m)\u001b[0m\u001b[0;34m\u001b[0m\u001b[0;34m\u001b[0m\u001b[0m\n\u001b[0m\u001b[1;32m    186\u001b[0m         \u001b[0;32mreturn\u001b[0m \u001b[0mxp\u001b[0m\u001b[0;34m.\u001b[0m\u001b[0masarray\u001b[0m\u001b[0;34m(\u001b[0m\u001b[0marray\u001b[0m\u001b[0;34m,\u001b[0m \u001b[0mcopy\u001b[0m\u001b[0;34m=\u001b[0m\u001b[0mcopy\u001b[0m\u001b[0;34m)\u001b[0m\u001b[0;34m\u001b[0m\u001b[0;34m\u001b[0m\u001b[0m\n",
            "\u001b[0;31mValueError\u001b[0m: could not convert string to float: '(2766 - 4846) ganti baterai asus zenfone max pro'",
            "\nThe above exception was the direct cause of the following exception:\n",
            "\u001b[0;31mValueError\u001b[0m                                Traceback (most recent call last)",
            "\u001b[0;32m<ipython-input-38-119da78d6599>\u001b[0m in \u001b[0;36m<cell line: 4>\u001b[0;34m()\u001b[0m\n\u001b[1;32m      2\u001b[0m \u001b[0;32mfrom\u001b[0m \u001b[0msklearn\u001b[0m\u001b[0;34m.\u001b[0m\u001b[0mpreprocessing\u001b[0m \u001b[0;32mimport\u001b[0m \u001b[0mOneHotEncoder\u001b[0m\u001b[0;34m\u001b[0m\u001b[0;34m\u001b[0m\u001b[0m\n\u001b[1;32m      3\u001b[0m \u001b[0mct\u001b[0m \u001b[0;34m=\u001b[0m \u001b[0mColumnTransformer\u001b[0m\u001b[0;34m(\u001b[0m\u001b[0mtransformers\u001b[0m\u001b[0;34m=\u001b[0m\u001b[0;34m[\u001b[0m\u001b[0;34m(\u001b[0m\u001b[0;34m'encoder'\u001b[0m\u001b[0;34m,\u001b[0m \u001b[0mOneHotEncoder\u001b[0m\u001b[0;34m(\u001b[0m\u001b[0;34m)\u001b[0m\u001b[0;34m,\u001b[0m \u001b[0;34m[\u001b[0m\u001b[0;36m0\u001b[0m\u001b[0;34m]\u001b[0m\u001b[0;34m)\u001b[0m\u001b[0;34m]\u001b[0m\u001b[0;34m,\u001b[0m \u001b[0mremainder\u001b[0m\u001b[0;34m=\u001b[0m\u001b[0;34m'passthrough'\u001b[0m\u001b[0;34m)\u001b[0m\u001b[0;34m\u001b[0m\u001b[0;34m\u001b[0m\u001b[0m\n\u001b[0;32m----> 4\u001b[0;31m \u001b[0mx\u001b[0m \u001b[0;34m=\u001b[0m \u001b[0mnumpy\u001b[0m\u001b[0;34m.\u001b[0m\u001b[0marray\u001b[0m\u001b[0;34m(\u001b[0m\u001b[0mct\u001b[0m\u001b[0;34m.\u001b[0m\u001b[0mfit_transform\u001b[0m\u001b[0;34m(\u001b[0m\u001b[0mx\u001b[0m\u001b[0;34m)\u001b[0m\u001b[0;34m)\u001b[0m\u001b[0;34m\u001b[0m\u001b[0;34m\u001b[0m\u001b[0m\n\u001b[0m",
            "\u001b[0;32m/usr/local/lib/python3.10/dist-packages/sklearn/utils/_set_output.py\u001b[0m in \u001b[0;36mwrapped\u001b[0;34m(self, X, *args, **kwargs)\u001b[0m\n\u001b[1;32m    138\u001b[0m     \u001b[0;34m@\u001b[0m\u001b[0mwraps\u001b[0m\u001b[0;34m(\u001b[0m\u001b[0mf\u001b[0m\u001b[0;34m)\u001b[0m\u001b[0;34m\u001b[0m\u001b[0;34m\u001b[0m\u001b[0m\n\u001b[1;32m    139\u001b[0m     \u001b[0;32mdef\u001b[0m \u001b[0mwrapped\u001b[0m\u001b[0;34m(\u001b[0m\u001b[0mself\u001b[0m\u001b[0;34m,\u001b[0m \u001b[0mX\u001b[0m\u001b[0;34m,\u001b[0m \u001b[0;34m*\u001b[0m\u001b[0margs\u001b[0m\u001b[0;34m,\u001b[0m \u001b[0;34m**\u001b[0m\u001b[0mkwargs\u001b[0m\u001b[0;34m)\u001b[0m\u001b[0;34m:\u001b[0m\u001b[0;34m\u001b[0m\u001b[0;34m\u001b[0m\u001b[0m\n\u001b[0;32m--> 140\u001b[0;31m         \u001b[0mdata_to_wrap\u001b[0m \u001b[0;34m=\u001b[0m \u001b[0mf\u001b[0m\u001b[0;34m(\u001b[0m\u001b[0mself\u001b[0m\u001b[0;34m,\u001b[0m \u001b[0mX\u001b[0m\u001b[0;34m,\u001b[0m \u001b[0;34m*\u001b[0m\u001b[0margs\u001b[0m\u001b[0;34m,\u001b[0m \u001b[0;34m**\u001b[0m\u001b[0mkwargs\u001b[0m\u001b[0;34m)\u001b[0m\u001b[0;34m\u001b[0m\u001b[0;34m\u001b[0m\u001b[0m\n\u001b[0m\u001b[1;32m    141\u001b[0m         \u001b[0;32mif\u001b[0m \u001b[0misinstance\u001b[0m\u001b[0;34m(\u001b[0m\u001b[0mdata_to_wrap\u001b[0m\u001b[0;34m,\u001b[0m \u001b[0mtuple\u001b[0m\u001b[0;34m)\u001b[0m\u001b[0;34m:\u001b[0m\u001b[0;34m\u001b[0m\u001b[0;34m\u001b[0m\u001b[0m\n\u001b[1;32m    142\u001b[0m             \u001b[0;31m# only wrap the first output for cross decomposition\u001b[0m\u001b[0;34m\u001b[0m\u001b[0;34m\u001b[0m\u001b[0m\n",
            "\u001b[0;32m/usr/local/lib/python3.10/dist-packages/sklearn/compose/_column_transformer.py\u001b[0m in \u001b[0;36mfit_transform\u001b[0;34m(self, X, y)\u001b[0m\n\u001b[1;32m    749\u001b[0m         \u001b[0mself\u001b[0m\u001b[0;34m.\u001b[0m\u001b[0m_record_output_indices\u001b[0m\u001b[0;34m(\u001b[0m\u001b[0mXs\u001b[0m\u001b[0;34m)\u001b[0m\u001b[0;34m\u001b[0m\u001b[0;34m\u001b[0m\u001b[0m\n\u001b[1;32m    750\u001b[0m \u001b[0;34m\u001b[0m\u001b[0m\n\u001b[0;32m--> 751\u001b[0;31m         \u001b[0;32mreturn\u001b[0m \u001b[0mself\u001b[0m\u001b[0;34m.\u001b[0m\u001b[0m_hstack\u001b[0m\u001b[0;34m(\u001b[0m\u001b[0mlist\u001b[0m\u001b[0;34m(\u001b[0m\u001b[0mXs\u001b[0m\u001b[0;34m)\u001b[0m\u001b[0;34m)\u001b[0m\u001b[0;34m\u001b[0m\u001b[0;34m\u001b[0m\u001b[0m\n\u001b[0m\u001b[1;32m    752\u001b[0m \u001b[0;34m\u001b[0m\u001b[0m\n\u001b[1;32m    753\u001b[0m     \u001b[0;32mdef\u001b[0m \u001b[0mtransform\u001b[0m\u001b[0;34m(\u001b[0m\u001b[0mself\u001b[0m\u001b[0;34m,\u001b[0m \u001b[0mX\u001b[0m\u001b[0;34m)\u001b[0m\u001b[0;34m:\u001b[0m\u001b[0;34m\u001b[0m\u001b[0;34m\u001b[0m\u001b[0m\n",
            "\u001b[0;32m/usr/local/lib/python3.10/dist-packages/sklearn/compose/_column_transformer.py\u001b[0m in \u001b[0;36m_hstack\u001b[0;34m(self, Xs)\u001b[0m\n\u001b[1;32m    833\u001b[0m                 ]\n\u001b[1;32m    834\u001b[0m             \u001b[0;32mexcept\u001b[0m \u001b[0mValueError\u001b[0m \u001b[0;32mas\u001b[0m \u001b[0me\u001b[0m\u001b[0;34m:\u001b[0m\u001b[0;34m\u001b[0m\u001b[0;34m\u001b[0m\u001b[0m\n\u001b[0;32m--> 835\u001b[0;31m                 raise ValueError(\n\u001b[0m\u001b[1;32m    836\u001b[0m                     \u001b[0;34m\"For a sparse output, all columns should \"\u001b[0m\u001b[0;34m\u001b[0m\u001b[0;34m\u001b[0m\u001b[0m\n\u001b[1;32m    837\u001b[0m                     \u001b[0;34m\"be a numeric or convertible to a numeric.\"\u001b[0m\u001b[0;34m\u001b[0m\u001b[0;34m\u001b[0m\u001b[0m\n",
            "\u001b[0;31mValueError\u001b[0m: For a sparse output, all columns should be a numeric or convertible to a numeric."
          ]
        }
      ]
    },
    {
      "cell_type": "code",
      "source": [
        "print(x)"
      ],
      "metadata": {
        "colab": {
          "base_uri": "https://localhost:8080/"
        },
        "id": "hwFN9H8E9iOV",
        "outputId": "4dd6a106-427f-4561-ddbc-303865bcf48f"
      },
      "execution_count": null,
      "outputs": [
        {
          "output_type": "stream",
          "name": "stdout",
          "text": [
            "[['Devisi HpCash' '(2766 - 4846) ganti baterai asus zenfone max pro'\n",
            "  '250000']\n",
            " ['OperasionalCash' '(2767 - ) kabel type c' '25000']\n",
            " ['Devisi HpCash' '(2768 - 4844) cleaning fan + ram asus ROG' '250000']\n",
            " ['OperasionalATM' '(2769 - ) enclosure HDD Orico' '150000']\n",
            " ['Devisi HpATM' '(4837 - 4837) LCD Infinix note 7' '217000']\n",
            " ['Devisi HpCash' '(4848 - 4848) soft xiaomi note 9 matot' '100000']\n",
            " ['KasbonCash' '(makan siang) P. Denny & Bu Inggrid' '21500']\n",
            " ['KasbonCash' '(sewa pancing) P. Denny & Bu Inggrid' '30000']\n",
            " ['Devisi HpCash' '(2762 - 4843) DP ganti LCD TS HP Huawei honor 10'\n",
            "  '300000']\n",
            " ['Devisi HpCash' '(2763 - 4841) service cas samsung A51' '150000']\n",
            " ['Devisi HpCash' '(2764 - 4842) ganti konektor cas handphone redmi 4A'\n",
            "  '100000']\n",
            " ['Devisi LaptopCash' '(2765 - 4831) cleaning dan ganti pasta PC DELL'\n",
            "  '100000']\n",
            " ['Devisi LaptopCash' '(4845 - 4845) SSD Sonix 128 GB' '225000']\n",
            " ['Devisi HpATM' '(2760 - 4838) ganti baterai hp redmi note 9 pro'\n",
            "  '300000']\n",
            " ['Devisi HpCash'\n",
            "  '(2761 - 4836) service konektor charge handphone lenovo' '100000']\n",
            " ['Devisi HpCash' '(4838 - 4838) batt ori prime 100% BN 53' '75000']\n",
            " ['Devisi LaptopCash'\n",
            "  '(2756 - 4824) install ulang laptop dell inspiron 14 5000' '100000']\n",
            " ['Devisi LaptopCash' '(2757 - 4835) reset printer epson L220' '75000']\n",
            " ['Devisi LaptopCash' '(2758 - 4825) service kamera IP S340' '100000']\n",
            " ['Devisi LaptopCash' '(2759 - 4763) service fleksibel on/off acer'\n",
            "  '100000']\n",
            " ['Devisi HpCash' '(2753 - 4823) service tombol power handphone' '50000']\n",
            " ['Devisi HpCash' '(2754 - 4822) software hp samsung a20s' '150000']\n",
            " ['Devisi LaptopCash' '(2755 - 4821) install ulang asus a442u' '100000']\n",
            " ['OperasionalCash' 'toner for CB435/43B' '150000']\n",
            " ['KasbonCash' '(kotak tisu dan mainan tikus) P. Denny & Bu Inggrid'\n",
            "  '46500']\n",
            " ['PengadaanCash' '(Kemenkumham) PMC toner catridge' '95000']\n",
            " ['Devisi HpCash' '(4802 - 4802) cancel asus ROG' '55000']\n",
            " ['OperasionalCash' 'alat service' '38600']\n",
            " ['Devisi LaptopCash' '(2752 - 4820) SSD 256 GB' '750000']\n",
            " ['Devisi LaptopCash' '(2752 - 4820) caddy HDD' '100000']\n",
            " ['Devisi HpCash' '(4802 - 4802) DP Asus ROG' '100000']\n",
            " ['OperasionalATM' '(stok - ) mouse optik usb 10 pcs' '105000']\n",
            " ['OperasionalATM' '(stok - ) kabel hdmi 5 pcs' '70000']\n",
            " ['Devisi HpCash' '(2747 - 2747) ganti baterai handphone poco X3'\n",
            "  '300000']\n",
            " ['Devisi HpATM' '(2748 - 4619) service tombol power + software huawei'\n",
            "  '250000']\n",
            " ['Devisi HpATM' '(2749 - 4819) ganti lcd handphone vivo V9' '400000']\n",
            " ['Devisi LaptopCash' '(2750 - 2750) install aplikasi photoshop' '50000']\n",
            " ['Devisi LaptopCash' '(2751 - 4815) service engsel laptop dell 15 3511'\n",
            "  '150000']\n",
            " ['OperasionalCash' 'second hdd notebook' '78000k']\n",
            " ['OperasionalCash' 'kabel power notebook' '215000']\n",
            " ['Devisi LaptopCash' '(4820 - 4820) SSD Sonix 256GB' '315000']\n",
            " ['Devisi HpATM' '(2743 - 4812) ganti baterai hp huawei 3i' '250000']\n",
            " ['Devisi HpATM' '(2743 - 4812) ganti konektor charger huawei' '150000']\n",
            " ['Devisi HpCash' '(2744 - 4758) ganti lcd dan konektor cas xiaomi'\n",
            "  '550000']\n",
            " ['Devisi HpCash' '(2745 - 2745) ganti baterai ip 6G' '200000']\n",
            " ['Devisi HpCash' '(2746 - 4557) ganti mesin xiaomi redmi 5A' '125000']\n",
            " ['Devisi HpCash' '(2737 - 4809) software ulang hp vivo 1907' '100000']\n",
            " ['Devisi HpCash' '(2737 - 4809) baterai vivo 1907' '200000']\n",
            " ['Devisi HpCash' '(4817 - 4817) garansi' 'Free']\n",
            " ['Devisi HpCash' '(4819 - 4819) LCD Vivo V9/Y85' '195000']\n",
            " ['Devisi HpCash' '(5274) LCD Xiaomi Redmi Note 8' '157000']\n",
            " ['Devisi HpCash' '(3194 - 5247) DP Ganti LCD Samsung s20 Ultra'\n",
            "  '2000000']\n",
            " ['Devisi HpCash' '(3190) Ganti LCD TS HP redmi note 8' '400000']\n",
            " ['Devisi HPCash' '(3196) ganti socket redmi note 9 pro' '350000']\n",
            " ['Devisi HpATM' '(3197) ganti  lcd ts handphone oppo A31' '350000']\n",
            " ['Devisi HpATM' '(3199) ganti baterai handphone redmi 4x' '200000']\n",
            " ['Devisi HpCash' '(5247) DP LCD Samsung' '50000']\n",
            " ['Devisi HpATM' '(5279) batt xiaomi ORI BN-44 redmi 5' '65000']\n",
            " ['Devisi HpCash' '(5282) lcd oppo A31 2020' '124000']\n",
            " ['Devisi HpCash' 'Tempered Glass Titan' '8000']\n",
            " ['Devisi HpCash' 'o/f reno 5' '10000']\n",
            " ['Devisi HpATM' 'lcs sam A750 black' '180000']\n",
            " ['Devisi HpCash' '(3199) batt xiaomi ORI BM-47/4X' '50000']\n",
            " ['Devisi HpCash' '(3200) ganti baterai redmi 5 plus' '200000']\n",
            " ['Devisi LaptopATM' '(3201) service mainboard A10 dell' '500000']\n",
            " ['Devisi HpATM' '(3202) ganti baterai xiaomi redmi note 4X' '200000']\n",
            " ['Devisi HpCash' '(3204) ganti lcd samsung galaxy A7' '350000']\n",
            " ['Devisi HpCash' '(3206) ganti baterai redmi note 7' '250000']\n",
            " ['Devisi HpATM' '(3206) baterai xiaomi redmi note 7' '250000']\n",
            " ['Devisi HpCash' '(3209) service tombol o/f dan power' '100000']\n",
            " ['Devisi HpCash' '(3211) install ulang dan service speaker Hp' '200000']\n",
            " ['Devisi HpATM' '(3162) batt huawei P9' '60000']\n",
            " ['Devisi HpCash' '(3213) ganti baterai dan fleksibel hp honor' '350000']\n",
            " ['Devisi HpATM' '(3222) ganti baterai hp samsung galaxy J7 Prime'\n",
            "  '250000']\n",
            " [';;' nan nan]\n",
            " [';;' nan nan]]\n"
          ]
        }
      ]
    },
    {
      "cell_type": "code",
      "source": [
        "from sklearn.preprocessing import LabelEncoder\n",
        "le = LabelEncoder()\n",
        "y = le.fit_transform(y)"
      ],
      "metadata": {
        "id": "XGWdndCp9tHU"
      },
      "execution_count": null,
      "outputs": []
    },
    {
      "cell_type": "code",
      "source": [
        "print(y)"
      ],
      "metadata": {
        "colab": {
          "base_uri": "https://localhost:8080/"
        },
        "id": "GSUYFbgp-H5V",
        "outputId": "6c72727a-a3c6-41d7-bf64-b61bb973d40e"
      },
      "execution_count": null,
      "outputs": [
        {
          "output_type": "stream",
          "name": "stdout",
          "text": [
            "[1 2 1 1 1 1 2 2 1 1 1 1 1 1 1 1 1 1 1 1 1 1 1 2 2 2 2 2 2 1 1 2 2 1 1 1 1\n",
            " 1 2 2 1 1 1 1 1 1 1 1 0 1 1 1 1 1 1 1 1 1 1 1 1 1 1 1 1 1 1 1 1 1 1 1 1 1\n",
            " 3 3]\n"
          ]
        }
      ]
    },
    {
      "cell_type": "code",
      "source": [
        "from sklearn.model_selection import train_test_split\n",
        "x_train, x_test, y_train, y_test = train_test_split(x, y, test_size=0.2, random_state=1)"
      ],
      "metadata": {
        "id": "kPbV19zK-MXh"
      },
      "execution_count": null,
      "outputs": []
    },
    {
      "cell_type": "code",
      "source": [
        "print(y_train)"
      ],
      "metadata": {
        "colab": {
          "base_uri": "https://localhost:8080/"
        },
        "id": "KwuW25g5_Tb1",
        "outputId": "efe1c7b3-5ca1-473a-ee64-24bd5e0106f1"
      },
      "execution_count": null,
      "outputs": [
        {
          "output_type": "stream",
          "name": "stdout",
          "text": [
            "[1 1 1 1 1 3 1 1 1 1 2 1 2 1 1 1 1 0 1 1 2 1 1 1 1 1 2 1 1 1 1 2 1 1 1 1 2\n",
            " 1 1 1 1 2 1 1 1 1 3 1 1 1 2 2 2 1 1 1 1 1 1 1]\n"
          ]
        }
      ]
    },
    {
      "cell_type": "code",
      "source": [
        "print(x_test)"
      ],
      "metadata": {
        "colab": {
          "base_uri": "https://localhost:8080/"
        },
        "id": "Hx4Z9ogH_pwB",
        "outputId": "babf3ddc-3bc4-4c16-d94f-4295901ccb5c"
      },
      "execution_count": null,
      "outputs": [
        {
          "output_type": "stream",
          "name": "stdout",
          "text": [
            "[['Devisi LaptopCash' '(2759 - 4763) service fleksibel on/off acer'\n",
            "  '100000']\n",
            " ['Devisi HpCash' '(5247) DP LCD Samsung' '50000']\n",
            " ['Devisi HpCash' '(2764 - 4842) ganti konektor cas handphone redmi 4A'\n",
            "  '100000']\n",
            " ['Devisi HpATM' '(3162) batt huawei P9' '60000']\n",
            " ['Devisi HpATM' '(3199) ganti baterai handphone redmi 4x' '200000']\n",
            " ['Devisi HpCash' '(4802 - 4802) cancel asus ROG' '55000']\n",
            " ['Devisi LaptopCash' '(4820 - 4820) SSD Sonix 256GB' '315000']\n",
            " ['Devisi HpCash' '(2747 - 2747) ganti baterai handphone poco X3'\n",
            "  '300000']\n",
            " ['Devisi HpATM' '(2748 - 4619) service tombol power + software huawei'\n",
            "  '250000']\n",
            " ['Devisi HpATM' 'lcs sam A750 black' '180000']\n",
            " ['Devisi HpCash' '(2745 - 2745) ganti baterai ip 6G' '200000']\n",
            " ['Devisi HpCash' '(2737 - 4809) baterai vivo 1907' '200000']\n",
            " ['Devisi HpCash' '(2768 - 4844) cleaning fan + ram asus ROG' '250000']\n",
            " ['Devisi HpCash' '(3194 - 5247) DP Ganti LCD Samsung s20 Ultra'\n",
            "  '2000000']\n",
            " ['OperasionalCash' 'alat service' '38600']\n",
            " ['OperasionalCash' 'kabel power notebook' '215000']]\n"
          ]
        }
      ]
    },
    {
      "cell_type": "code",
      "source": [
        "print(y_train)"
      ],
      "metadata": {
        "colab": {
          "base_uri": "https://localhost:8080/"
        },
        "id": "8zdHg37O_yFQ",
        "outputId": "57d49a45-bfcc-4e0c-f823-4382231cd77a"
      },
      "execution_count": null,
      "outputs": [
        {
          "output_type": "stream",
          "name": "stdout",
          "text": [
            "[1 1 1 1 1 3 1 1 1 1 2 1 2 1 1 1 1 0 1 1 2 1 1 1 1 1 2 1 1 1 1 2 1 1 1 1 2\n",
            " 1 1 1 1 2 1 1 1 1 3 1 1 1 2 2 2 1 1 1 1 1 1 1]\n"
          ]
        }
      ]
    },
    {
      "cell_type": "code",
      "source": [
        "print(y_test)"
      ],
      "metadata": {
        "colab": {
          "base_uri": "https://localhost:8080/"
        },
        "id": "ozsCazpA_20-",
        "outputId": "311fefc6-97b4-40be-8809-2b10a4afb42a"
      },
      "execution_count": null,
      "outputs": [
        {
          "output_type": "stream",
          "name": "stdout",
          "text": [
            "[1 1 1 1 1 2 1 1 1 1 1 1 1 1 2 2]\n"
          ]
        }
      ]
    },
    {
      "cell_type": "code",
      "source": [
        "from sklearn.preprocessing import StandardScaler\n",
        "sc = StandardScaler()\n",
        "x_train[:, 3:] = sc.fit_transform(x_train[:, 3:])\n",
        "x_test[:, 3:] = sc.transform(x_test[:, 3:])"
      ],
      "metadata": {
        "id": "VGi-iEIQAQwi",
        "colab": {
          "base_uri": "https://localhost:8080/",
          "height": 415
        },
        "outputId": "2ec40062-e7f5-451b-92fe-e31d5948dfe6"
      },
      "execution_count": null,
      "outputs": [
        {
          "output_type": "error",
          "ename": "ValueError",
          "evalue": "ignored",
          "traceback": [
            "\u001b[0;31m---------------------------------------------------------------------------\u001b[0m",
            "\u001b[0;31mValueError\u001b[0m                                Traceback (most recent call last)",
            "\u001b[0;32m<ipython-input-47-518b13f07a99>\u001b[0m in \u001b[0;36m<cell line: 3>\u001b[0;34m()\u001b[0m\n\u001b[1;32m      1\u001b[0m \u001b[0;32mfrom\u001b[0m \u001b[0msklearn\u001b[0m\u001b[0;34m.\u001b[0m\u001b[0mpreprocessing\u001b[0m \u001b[0;32mimport\u001b[0m \u001b[0mStandardScaler\u001b[0m\u001b[0;34m\u001b[0m\u001b[0;34m\u001b[0m\u001b[0m\n\u001b[1;32m      2\u001b[0m \u001b[0msc\u001b[0m \u001b[0;34m=\u001b[0m \u001b[0mStandardScaler\u001b[0m\u001b[0;34m(\u001b[0m\u001b[0;34m)\u001b[0m\u001b[0;34m\u001b[0m\u001b[0;34m\u001b[0m\u001b[0m\n\u001b[0;32m----> 3\u001b[0;31m \u001b[0mx_train\u001b[0m\u001b[0;34m[\u001b[0m\u001b[0;34m:\u001b[0m\u001b[0;34m,\u001b[0m \u001b[0;36m3\u001b[0m\u001b[0;34m:\u001b[0m\u001b[0;34m]\u001b[0m \u001b[0;34m=\u001b[0m \u001b[0msc\u001b[0m\u001b[0;34m.\u001b[0m\u001b[0mfit_transform\u001b[0m\u001b[0;34m(\u001b[0m\u001b[0mx_train\u001b[0m\u001b[0;34m[\u001b[0m\u001b[0;34m:\u001b[0m\u001b[0;34m,\u001b[0m \u001b[0;36m3\u001b[0m\u001b[0;34m:\u001b[0m\u001b[0;34m]\u001b[0m\u001b[0;34m)\u001b[0m\u001b[0;34m\u001b[0m\u001b[0;34m\u001b[0m\u001b[0m\n\u001b[0m\u001b[1;32m      4\u001b[0m \u001b[0mx_test\u001b[0m\u001b[0;34m[\u001b[0m\u001b[0;34m:\u001b[0m\u001b[0;34m,\u001b[0m \u001b[0;36m3\u001b[0m\u001b[0;34m:\u001b[0m\u001b[0;34m]\u001b[0m \u001b[0;34m=\u001b[0m \u001b[0msc\u001b[0m\u001b[0;34m.\u001b[0m\u001b[0mtransform\u001b[0m\u001b[0;34m(\u001b[0m\u001b[0mx_test\u001b[0m\u001b[0;34m[\u001b[0m\u001b[0;34m:\u001b[0m\u001b[0;34m,\u001b[0m \u001b[0;36m3\u001b[0m\u001b[0;34m:\u001b[0m\u001b[0;34m]\u001b[0m\u001b[0;34m)\u001b[0m\u001b[0;34m\u001b[0m\u001b[0;34m\u001b[0m\u001b[0m\n",
            "\u001b[0;32m/usr/local/lib/python3.10/dist-packages/sklearn/utils/_set_output.py\u001b[0m in \u001b[0;36mwrapped\u001b[0;34m(self, X, *args, **kwargs)\u001b[0m\n\u001b[1;32m    138\u001b[0m     \u001b[0;34m@\u001b[0m\u001b[0mwraps\u001b[0m\u001b[0;34m(\u001b[0m\u001b[0mf\u001b[0m\u001b[0;34m)\u001b[0m\u001b[0;34m\u001b[0m\u001b[0;34m\u001b[0m\u001b[0m\n\u001b[1;32m    139\u001b[0m     \u001b[0;32mdef\u001b[0m \u001b[0mwrapped\u001b[0m\u001b[0;34m(\u001b[0m\u001b[0mself\u001b[0m\u001b[0;34m,\u001b[0m \u001b[0mX\u001b[0m\u001b[0;34m,\u001b[0m \u001b[0;34m*\u001b[0m\u001b[0margs\u001b[0m\u001b[0;34m,\u001b[0m \u001b[0;34m**\u001b[0m\u001b[0mkwargs\u001b[0m\u001b[0;34m)\u001b[0m\u001b[0;34m:\u001b[0m\u001b[0;34m\u001b[0m\u001b[0;34m\u001b[0m\u001b[0m\n\u001b[0;32m--> 140\u001b[0;31m         \u001b[0mdata_to_wrap\u001b[0m \u001b[0;34m=\u001b[0m \u001b[0mf\u001b[0m\u001b[0;34m(\u001b[0m\u001b[0mself\u001b[0m\u001b[0;34m,\u001b[0m \u001b[0mX\u001b[0m\u001b[0;34m,\u001b[0m \u001b[0;34m*\u001b[0m\u001b[0margs\u001b[0m\u001b[0;34m,\u001b[0m \u001b[0;34m**\u001b[0m\u001b[0mkwargs\u001b[0m\u001b[0;34m)\u001b[0m\u001b[0;34m\u001b[0m\u001b[0;34m\u001b[0m\u001b[0m\n\u001b[0m\u001b[1;32m    141\u001b[0m         \u001b[0;32mif\u001b[0m \u001b[0misinstance\u001b[0m\u001b[0;34m(\u001b[0m\u001b[0mdata_to_wrap\u001b[0m\u001b[0;34m,\u001b[0m \u001b[0mtuple\u001b[0m\u001b[0;34m)\u001b[0m\u001b[0;34m:\u001b[0m\u001b[0;34m\u001b[0m\u001b[0;34m\u001b[0m\u001b[0m\n\u001b[1;32m    142\u001b[0m             \u001b[0;31m# only wrap the first output for cross decomposition\u001b[0m\u001b[0;34m\u001b[0m\u001b[0;34m\u001b[0m\u001b[0m\n",
            "\u001b[0;32m/usr/local/lib/python3.10/dist-packages/sklearn/base.py\u001b[0m in \u001b[0;36mfit_transform\u001b[0;34m(self, X, y, **fit_params)\u001b[0m\n\u001b[1;32m    876\u001b[0m         \u001b[0;32mif\u001b[0m \u001b[0my\u001b[0m \u001b[0;32mis\u001b[0m \u001b[0;32mNone\u001b[0m\u001b[0;34m:\u001b[0m\u001b[0;34m\u001b[0m\u001b[0;34m\u001b[0m\u001b[0m\n\u001b[1;32m    877\u001b[0m             \u001b[0;31m# fit method of arity 1 (unsupervised transformation)\u001b[0m\u001b[0;34m\u001b[0m\u001b[0;34m\u001b[0m\u001b[0m\n\u001b[0;32m--> 878\u001b[0;31m             \u001b[0;32mreturn\u001b[0m \u001b[0mself\u001b[0m\u001b[0;34m.\u001b[0m\u001b[0mfit\u001b[0m\u001b[0;34m(\u001b[0m\u001b[0mX\u001b[0m\u001b[0;34m,\u001b[0m \u001b[0;34m**\u001b[0m\u001b[0mfit_params\u001b[0m\u001b[0;34m)\u001b[0m\u001b[0;34m.\u001b[0m\u001b[0mtransform\u001b[0m\u001b[0;34m(\u001b[0m\u001b[0mX\u001b[0m\u001b[0;34m)\u001b[0m\u001b[0;34m\u001b[0m\u001b[0;34m\u001b[0m\u001b[0m\n\u001b[0m\u001b[1;32m    879\u001b[0m         \u001b[0;32melse\u001b[0m\u001b[0;34m:\u001b[0m\u001b[0;34m\u001b[0m\u001b[0;34m\u001b[0m\u001b[0m\n\u001b[1;32m    880\u001b[0m             \u001b[0;31m# fit method of arity 2 (supervised transformation)\u001b[0m\u001b[0;34m\u001b[0m\u001b[0;34m\u001b[0m\u001b[0m\n",
            "\u001b[0;32m/usr/local/lib/python3.10/dist-packages/sklearn/preprocessing/_data.py\u001b[0m in \u001b[0;36mfit\u001b[0;34m(self, X, y, sample_weight)\u001b[0m\n\u001b[1;32m    822\u001b[0m         \u001b[0;31m# Reset internal state before fitting\u001b[0m\u001b[0;34m\u001b[0m\u001b[0;34m\u001b[0m\u001b[0m\n\u001b[1;32m    823\u001b[0m         \u001b[0mself\u001b[0m\u001b[0;34m.\u001b[0m\u001b[0m_reset\u001b[0m\u001b[0;34m(\u001b[0m\u001b[0;34m)\u001b[0m\u001b[0;34m\u001b[0m\u001b[0;34m\u001b[0m\u001b[0m\n\u001b[0;32m--> 824\u001b[0;31m         \u001b[0;32mreturn\u001b[0m \u001b[0mself\u001b[0m\u001b[0;34m.\u001b[0m\u001b[0mpartial_fit\u001b[0m\u001b[0;34m(\u001b[0m\u001b[0mX\u001b[0m\u001b[0;34m,\u001b[0m \u001b[0my\u001b[0m\u001b[0;34m,\u001b[0m \u001b[0msample_weight\u001b[0m\u001b[0;34m)\u001b[0m\u001b[0;34m\u001b[0m\u001b[0;34m\u001b[0m\u001b[0m\n\u001b[0m\u001b[1;32m    825\u001b[0m \u001b[0;34m\u001b[0m\u001b[0m\n\u001b[1;32m    826\u001b[0m     \u001b[0;32mdef\u001b[0m \u001b[0mpartial_fit\u001b[0m\u001b[0;34m(\u001b[0m\u001b[0mself\u001b[0m\u001b[0;34m,\u001b[0m \u001b[0mX\u001b[0m\u001b[0;34m,\u001b[0m \u001b[0my\u001b[0m\u001b[0;34m=\u001b[0m\u001b[0;32mNone\u001b[0m\u001b[0;34m,\u001b[0m \u001b[0msample_weight\u001b[0m\u001b[0;34m=\u001b[0m\u001b[0;32mNone\u001b[0m\u001b[0;34m)\u001b[0m\u001b[0;34m:\u001b[0m\u001b[0;34m\u001b[0m\u001b[0;34m\u001b[0m\u001b[0m\n",
            "\u001b[0;32m/usr/local/lib/python3.10/dist-packages/sklearn/preprocessing/_data.py\u001b[0m in \u001b[0;36mpartial_fit\u001b[0;34m(self, X, y, sample_weight)\u001b[0m\n\u001b[1;32m    859\u001b[0m \u001b[0;34m\u001b[0m\u001b[0m\n\u001b[1;32m    860\u001b[0m         \u001b[0mfirst_call\u001b[0m \u001b[0;34m=\u001b[0m \u001b[0;32mnot\u001b[0m \u001b[0mhasattr\u001b[0m\u001b[0;34m(\u001b[0m\u001b[0mself\u001b[0m\u001b[0;34m,\u001b[0m \u001b[0;34m\"n_samples_seen_\"\u001b[0m\u001b[0;34m)\u001b[0m\u001b[0;34m\u001b[0m\u001b[0;34m\u001b[0m\u001b[0m\n\u001b[0;32m--> 861\u001b[0;31m         X = self._validate_data(\n\u001b[0m\u001b[1;32m    862\u001b[0m             \u001b[0mX\u001b[0m\u001b[0;34m,\u001b[0m\u001b[0;34m\u001b[0m\u001b[0;34m\u001b[0m\u001b[0m\n\u001b[1;32m    863\u001b[0m             \u001b[0maccept_sparse\u001b[0m\u001b[0;34m=\u001b[0m\u001b[0;34m(\u001b[0m\u001b[0;34m\"csr\"\u001b[0m\u001b[0;34m,\u001b[0m \u001b[0;34m\"csc\"\u001b[0m\u001b[0;34m)\u001b[0m\u001b[0;34m,\u001b[0m\u001b[0;34m\u001b[0m\u001b[0;34m\u001b[0m\u001b[0m\n",
            "\u001b[0;32m/usr/local/lib/python3.10/dist-packages/sklearn/base.py\u001b[0m in \u001b[0;36m_validate_data\u001b[0;34m(self, X, y, reset, validate_separately, **check_params)\u001b[0m\n\u001b[1;32m    563\u001b[0m             \u001b[0;32mraise\u001b[0m \u001b[0mValueError\u001b[0m\u001b[0;34m(\u001b[0m\u001b[0;34m\"Validation should be done on X, y or both.\"\u001b[0m\u001b[0;34m)\u001b[0m\u001b[0;34m\u001b[0m\u001b[0;34m\u001b[0m\u001b[0m\n\u001b[1;32m    564\u001b[0m         \u001b[0;32melif\u001b[0m \u001b[0;32mnot\u001b[0m \u001b[0mno_val_X\u001b[0m \u001b[0;32mand\u001b[0m \u001b[0mno_val_y\u001b[0m\u001b[0;34m:\u001b[0m\u001b[0;34m\u001b[0m\u001b[0;34m\u001b[0m\u001b[0m\n\u001b[0;32m--> 565\u001b[0;31m             \u001b[0mX\u001b[0m \u001b[0;34m=\u001b[0m \u001b[0mcheck_array\u001b[0m\u001b[0;34m(\u001b[0m\u001b[0mX\u001b[0m\u001b[0;34m,\u001b[0m \u001b[0minput_name\u001b[0m\u001b[0;34m=\u001b[0m\u001b[0;34m\"X\"\u001b[0m\u001b[0;34m,\u001b[0m \u001b[0;34m**\u001b[0m\u001b[0mcheck_params\u001b[0m\u001b[0;34m)\u001b[0m\u001b[0;34m\u001b[0m\u001b[0;34m\u001b[0m\u001b[0m\n\u001b[0m\u001b[1;32m    566\u001b[0m             \u001b[0mout\u001b[0m \u001b[0;34m=\u001b[0m \u001b[0mX\u001b[0m\u001b[0;34m\u001b[0m\u001b[0;34m\u001b[0m\u001b[0m\n\u001b[1;32m    567\u001b[0m         \u001b[0;32melif\u001b[0m \u001b[0mno_val_X\u001b[0m \u001b[0;32mand\u001b[0m \u001b[0;32mnot\u001b[0m \u001b[0mno_val_y\u001b[0m\u001b[0;34m:\u001b[0m\u001b[0;34m\u001b[0m\u001b[0;34m\u001b[0m\u001b[0m\n",
            "\u001b[0;32m/usr/local/lib/python3.10/dist-packages/sklearn/utils/validation.py\u001b[0m in \u001b[0;36mcheck_array\u001b[0;34m(array, accept_sparse, accept_large_sparse, dtype, order, copy, force_all_finite, ensure_2d, allow_nd, ensure_min_samples, ensure_min_features, estimator, input_name)\u001b[0m\n\u001b[1;32m    938\u001b[0m         \u001b[0mn_features\u001b[0m \u001b[0;34m=\u001b[0m \u001b[0marray\u001b[0m\u001b[0;34m.\u001b[0m\u001b[0mshape\u001b[0m\u001b[0;34m[\u001b[0m\u001b[0;36m1\u001b[0m\u001b[0;34m]\u001b[0m\u001b[0;34m\u001b[0m\u001b[0;34m\u001b[0m\u001b[0m\n\u001b[1;32m    939\u001b[0m         \u001b[0;32mif\u001b[0m \u001b[0mn_features\u001b[0m \u001b[0;34m<\u001b[0m \u001b[0mensure_min_features\u001b[0m\u001b[0;34m:\u001b[0m\u001b[0;34m\u001b[0m\u001b[0;34m\u001b[0m\u001b[0m\n\u001b[0;32m--> 940\u001b[0;31m             raise ValueError(\n\u001b[0m\u001b[1;32m    941\u001b[0m                 \u001b[0;34m\"Found array with %d feature(s) (shape=%s) while\"\u001b[0m\u001b[0;34m\u001b[0m\u001b[0;34m\u001b[0m\u001b[0m\n\u001b[1;32m    942\u001b[0m                 \u001b[0;34m\" a minimum of %d is required%s.\"\u001b[0m\u001b[0;34m\u001b[0m\u001b[0;34m\u001b[0m\u001b[0m\n",
            "\u001b[0;31mValueError\u001b[0m: Found array with 0 feature(s) (shape=(60, 0)) while a minimum of 1 is required by StandardScaler."
          ]
        }
      ]
    },
    {
      "cell_type": "code",
      "source": [
        "print(x_train)"
      ],
      "metadata": {
        "colab": {
          "base_uri": "https://localhost:8080/"
        },
        "id": "HenslQaPBB5r",
        "outputId": "0ff8ca98-aa3b-4242-cee5-909354b9eed6"
      },
      "execution_count": null,
      "outputs": [
        {
          "output_type": "stream",
          "name": "stdout",
          "text": [
            "[[0.0 1.0 nan nan]]\n"
          ]
        }
      ]
    },
    {
      "cell_type": "code",
      "source": [
        "print(x_test)"
      ],
      "metadata": {
        "colab": {
          "base_uri": "https://localhost:8080/"
        },
        "id": "JeaFL8zfBMfH",
        "outputId": "9d36078e-8811-4887-d9c2-b72613d69a6e"
      },
      "execution_count": null,
      "outputs": [
        {
          "output_type": "stream",
          "name": "stdout",
          "text": [
            "[[1.0 0.0 nan nan]]\n"
          ]
        }
      ]
    }
  ]
}